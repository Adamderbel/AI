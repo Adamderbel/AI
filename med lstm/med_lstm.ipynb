{
 "cells": [
  {
   "cell_type": "markdown",
   "metadata": {},
   "source": [
    "# Imports"
   ]
  },
  {
   "cell_type": "markdown",
   "metadata": {},
   "source": [
    "## Modules"
   ]
  },
  {
   "cell_type": "code",
   "execution_count": 1,
   "metadata": {},
   "outputs": [],
   "source": [
    "import pandas as pd \n",
    "from tqdm import tqdm\n",
    "from lstmModel import lstm_model, get_train_test_data\n",
    "import warnings\n",
    "warnings.filterwarnings(\"ignore\")"
   ]
  },
  {
   "cell_type": "markdown",
   "metadata": {},
   "source": [
    "## Data"
   ]
  },
  {
   "cell_type": "code",
   "execution_count": 2,
   "metadata": {},
   "outputs": [],
   "source": [
    "path = \"\"\n",
    "filename = \"Fact_Table_Rev.csv\"\n",
    "df= pd.read_csv(path + filename, usecols=[\"date_saisie\", \"Fk_famille_prestation\",\"Fk_typesociete\",\"montant_HT\"])\n",
    "# keep onlt records between 2006 and 2019\n",
    "df = df[(df[\"date_saisie\"] >= \"2006-01-01\") & (df[\"date_saisie\"] <= \"2019-12-31\")]\n",
    "\n",
    "all_prestations = df[\"Fk_famille_prestation\"].unique()"
   ]
  },
  {
   "cell_type": "markdown",
   "metadata": {},
   "source": [
    "# Model"
   ]
  },
  {
   "cell_type": "code",
   "execution_count": null,
   "metadata": {},
   "outputs": [],
   "source": [
    "models_dict = {}\n",
    "\n",
    "for prestation in tqdm(all_prestations):\n",
    "    print(\"-------------------\")\n",
    "    print(f\"Training model for prestation {prestation}\")\n",
    "    prestation_data = df[df[\"Fk_famille_prestation\"] == prestation]\n",
    "    train_data, test_data = get_train_test_data(prestation_data)\n",
    "    model = lstm_model(seq_length=10)\n",
    "    model.fit(train_data, epochs=1, batch_size=32)\n",
    "    model.predict(test_data)\n",
    "    model.evaluate()\n",
    "\n",
    "    models_dict[prestation] = model"
   ]
  },
  {
   "cell_type": "code",
   "execution_count": null,
   "metadata": {},
   "outputs": [],
   "source": []
  }
 ],
 "metadata": {
  "kernelspec": {
   "display_name": "Python 3",
   "language": "python",
   "name": "python3"
  },
  "language_info": {
   "codemirror_mode": {
    "name": "ipython",
    "version": 3
   },
   "file_extension": ".py",
   "mimetype": "text/x-python",
   "name": "python",
   "nbconvert_exporter": "python",
   "pygments_lexer": "ipython3",
   "version": "3.11.3"
  }
 },
 "nbformat": 4,
 "nbformat_minor": 2
}
