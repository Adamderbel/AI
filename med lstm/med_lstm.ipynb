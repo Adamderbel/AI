{
 "cells": [
  {
   "cell_type": "markdown",
   "metadata": {},
   "source": [
    "# Imports"
   ]
  },
  {
   "cell_type": "markdown",
   "metadata": {},
   "source": [
    "## Modules"
   ]
  },
  {
   "cell_type": "code",
   "execution_count": 1,
   "metadata": {},
   "outputs": [],
   "source": [
    "import pandas as pd \n",
    "from tqdm import tqdm\n",
    "from lstmModel import lstm_model, get_train_test_data\n",
    "import warnings\n",
    "warnings.filterwarnings(\"ignore\")"
   ]
  },
  {
   "cell_type": "markdown",
   "metadata": {},
   "source": [
    "## Data"
   ]
  },
  {
   "cell_type": "code",
   "execution_count": 2,
   "metadata": {},
   "outputs": [],
   "source": [
    "path = \"\"\n",
    "filename = \"Fact_Table_Rev.csv\"\n",
    "df= pd.read_csv(path + filename, usecols=[\"date_saisie\", \"Fk_famille_prestation\",\"Fk_typesociete\",\"montant_HT\"])\n",
    "# keep onlt records between 2006 and 2019\n",
    "df = df[(df[\"date_saisie\"] >= \"2006-01-01\") & (df[\"date_saisie\"] <= \"2019-12-31\")]\n",
    "\n",
    "all_prestations = df[\"Fk_famille_prestation\"].unique()"
   ]
  },
  {
   "cell_type": "code",
   "execution_count": 3,
   "metadata": {},
   "outputs": [
    {
     "name": "stderr",
     "output_type": "stream",
     "text": [
      "  0%|          | 0/20 [00:00<?, ?it/s]2024-05-20 01:44:39.092808: I metal_plugin/src/device/metal_device.cc:1154] Metal device set to: Apple M1 Pro\n",
      "2024-05-20 01:44:39.092837: I metal_plugin/src/device/metal_device.cc:296] systemMemory: 16.00 GB\n",
      "2024-05-20 01:44:39.092848: I metal_plugin/src/device/metal_device.cc:313] maxCacheSize: 5.33 GB\n",
      "2024-05-20 01:44:39.092891: I tensorflow/core/common_runtime/pluggable_device/pluggable_device_factory.cc:306] Could not identify NUMA node of platform GPU ID 0, defaulting to 0. Your kernel may not have been built with NUMA support.\n",
      "2024-05-20 01:44:39.092907: I tensorflow/core/common_runtime/pluggable_device/pluggable_device_factory.cc:272] Created TensorFlow device (/job:localhost/replica:0/task:0/device:GPU:0 with 0 MB memory) -> physical PluggableDevice (device: 0, name: METAL, pci bus id: <undefined>)\n"
     ]
    },
    {
     "name": "stdout",
     "output_type": "stream",
     "text": [
      "-------------------\n",
      "Training model for prestation BAR\n"
     ]
    },
    {
     "name": "stderr",
     "output_type": "stream",
     "text": [
      "2024-05-20 01:44:40.441486: I tensorflow/core/grappler/optimizers/custom_graph_optimizer_registry.cc:117] Plugin optimizer for device_type GPU is enabled.\n"
     ]
    },
    {
     "name": "stdout",
     "output_type": "stream",
     "text": [
      "5873/5873 [==============================] - 58s 10ms/step - loss: 1242.8506\n",
      "358/358 [==============================] - 2s 3ms/step\n",
      "358/358 [==============================] - 2s 4ms/step - loss: 7573.5142\n"
     ]
    },
    {
     "name": "stderr",
     "output_type": "stream",
     "text": [
      "  5%|▌         | 1/20 [01:04<20:20, 64.26s/it]"
     ]
    },
    {
     "name": "stdout",
     "output_type": "stream",
     "text": [
      "Mean Squared Error: 7573.51416015625\n",
      "Mean Absolute Percentage Error: inf %\n",
      "-------------------\n",
      "Training model for prestation CAVE\n",
      "2484/2484 [==============================] - 25s 10ms/step - loss: 13026.6162\n",
      "202/202 [==============================] - 1s 4ms/step\n",
      "202/202 [==============================] - 1s 4ms/step - loss: 56963.2227\n"
     ]
    },
    {
     "name": "stderr",
     "output_type": "stream",
     "text": [
      " 10%|█         | 2/20 [01:31<12:49, 42.75s/it]"
     ]
    },
    {
     "name": "stdout",
     "output_type": "stream",
     "text": [
      "Mean Squared Error: 56963.22265625\n",
      "Mean Absolute Percentage Error: inf %\n",
      "-------------------\n",
      "Training model for prestation RESTO\n",
      "2567/3244 [======================>.......] - ETA: 6s - loss: 318449.6250"
     ]
    }
   ],
   "source": [
    "models_dict = {}\n",
    "\n",
    "for prestation in tqdm(all_prestations):\n",
    "    print(\"-------------------\")\n",
    "    print(f\"Training model for prestation {prestation}\")\n",
    "    prestation_data = df[df[\"Fk_famille_prestation\"] == prestation]\n",
    "    train_data, test_data = get_train_test_data(prestation_data)\n",
    "    model = lstm_model(seq_length=10)\n",
    "    model.fit(train_data, epochs=1, batch_size=32)\n",
    "    model.predict(test_data)\n",
    "    model.evaluate()"
   ]
  },
  {
   "cell_type": "code",
   "execution_count": null,
   "metadata": {},
   "outputs": [],
   "source": []
  }
 ],
 "metadata": {
  "kernelspec": {
   "display_name": "Python 3",
   "language": "python",
   "name": "python3"
  },
  "language_info": {
   "codemirror_mode": {
    "name": "ipython",
    "version": 3
   },
   "file_extension": ".py",
   "mimetype": "text/x-python",
   "name": "python",
   "nbconvert_exporter": "python",
   "pygments_lexer": "ipython3",
   "version": "3.11.3"
  }
 },
 "nbformat": 4,
 "nbformat_minor": 2
}
